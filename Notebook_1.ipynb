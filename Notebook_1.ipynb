{
  "nbformat": 4,
  "nbformat_minor": 0,
  "metadata": {
    "colab": {
      "name": "Notebook_1.ipynb",
      "provenance": [],
      "collapsed_sections": [],
      "authorship_tag": "ABX9TyNc+FgJ6LDCGaVj0bA0F1g9",
      "include_colab_link": true
    },
    "kernelspec": {
      "name": "python3",
      "display_name": "Python 3"
    },
    "language_info": {
      "name": "python"
    }
  },
  "cells": [
    {
      "cell_type": "markdown",
      "metadata": {
        "id": "view-in-github",
        "colab_type": "text"
      },
      "source": [
        "<a href=\"https://colab.research.google.com/github/ruv97/Ruwini/blob/master/Notebook_1.ipynb\" target=\"_parent\"><img src=\"https://colab.research.google.com/assets/colab-badge.svg\" alt=\"Open In Colab\"/></a>"
      ]
    },
    {
      "cell_type": "code",
      "metadata": {
        "id": "DCZzYvDFEcN7",
        "colab": {
          "base_uri": "https://localhost:8080/"
        },
        "outputId": "85ac6249-f835-4b84-8fa8-641c72f9c6ec"
      },
      "source": [
        "# Jovian Commit Essentials\n",
        "# Please retain and execute this cell without modifying the contents for `jovian.commit` to work\n",
        "!pip install jovian --upgrade -q\n",
        "import jovian\n",
        "jovian.set_project('myNotebook_1')\n",
        "jovian.set_colab_id('177dF0fanPAUh8dJu34GJIoIsSmwrXxgE')"
      ],
      "execution_count": 1,
      "outputs": [
        {
          "output_type": "stream",
          "text": [
            "\u001b[?25l\r\u001b[K     |████▊                           | 10kB 16.6MB/s eta 0:00:01\r\u001b[K     |█████████▌                      | 20kB 22.8MB/s eta 0:00:01\r\u001b[K     |██████████████▎                 | 30kB 24.2MB/s eta 0:00:01\r\u001b[K     |███████████████████             | 40kB 19.0MB/s eta 0:00:01\r\u001b[K     |███████████████████████▊        | 51kB 9.7MB/s eta 0:00:01\r\u001b[K     |████████████████████████████▌   | 61kB 7.9MB/s eta 0:00:01\r\u001b[K     |████████████████████████████████| 71kB 4.6MB/s \n",
            "\u001b[?25h  Building wheel for uuid (setup.py) ... \u001b[?25l\u001b[?25hdone\n"
          ],
          "name": "stdout"
        }
      ]
    },
    {
      "cell_type": "markdown",
      "metadata": {
        "id": "EnS0vCiaJCxP"
      },
      "source": [
        "![](https://i.imgur.com/gvSnw4A.png)"
      ]
    },
    {
      "cell_type": "markdown",
      "metadata": {
        "id": "iIFcxkkKJJFO"
      },
      "source": [
        "#Performing Arithmetic Operations using Python"
      ]
    },
    {
      "cell_type": "code",
      "metadata": {
        "colab": {
          "base_uri": "https://localhost:8080/"
        },
        "id": "-V9PxZYlJAoe",
        "outputId": "3830ad6a-f29a-472d-f567-b71510116fa5"
      },
      "source": [
        "5 + 3 + 5"
      ],
      "execution_count": 4,
      "outputs": [
        {
          "output_type": "execute_result",
          "data": {
            "text/plain": [
              "13"
            ]
          },
          "metadata": {
            "tags": []
          },
          "execution_count": 4
        }
      ]
    },
    {
      "cell_type": "code",
      "metadata": {
        "colab": {
          "base_uri": "https://localhost:8080/"
        },
        "id": "wSILag3HJUYT",
        "outputId": "872807a4-1856-4a4d-a620-83e2093e07a4"
      },
      "source": [
        "45 - 23"
      ],
      "execution_count": 5,
      "outputs": [
        {
          "output_type": "execute_result",
          "data": {
            "text/plain": [
              "22"
            ]
          },
          "metadata": {
            "tags": []
          },
          "execution_count": 5
        }
      ]
    },
    {
      "cell_type": "code",
      "metadata": {
        "colab": {
          "base_uri": "https://localhost:8080/"
        },
        "id": "cbP9RyYeJZIr",
        "outputId": "ec9265d3-12cb-4039-e8d4-a72c3a909c23"
      },
      "source": [
        "87.34 * -7655"
      ],
      "execution_count": 6,
      "outputs": [
        {
          "output_type": "execute_result",
          "data": {
            "text/plain": [
              "-668587.7000000001"
            ]
          },
          "metadata": {
            "tags": []
          },
          "execution_count": 6
        }
      ]
    },
    {
      "cell_type": "code",
      "metadata": {
        "colab": {
          "base_uri": "https://localhost:8080/"
        },
        "id": "lPhXH8JYJc0O",
        "outputId": "8690cd03-204f-4fed-8669-c48777c5985e"
      },
      "source": [
        "200 / 7"
      ],
      "execution_count": 11,
      "outputs": [
        {
          "output_type": "execute_result",
          "data": {
            "text/plain": [
              "28.571428571428573"
            ]
          },
          "metadata": {
            "tags": []
          },
          "execution_count": 11
        }
      ]
    },
    {
      "cell_type": "code",
      "metadata": {
        "colab": {
          "base_uri": "https://localhost:8080/"
        },
        "id": "3qMjR3tYJe3N",
        "outputId": "505e3ca8-7ef9-4e6f-f861-b4675a2dcf9a"
      },
      "source": [
        "200 // 7"
      ],
      "execution_count": 12,
      "outputs": [
        {
          "output_type": "execute_result",
          "data": {
            "text/plain": [
              "28"
            ]
          },
          "metadata": {
            "tags": []
          },
          "execution_count": 12
        }
      ]
    },
    {
      "cell_type": "code",
      "metadata": {
        "colab": {
          "base_uri": "https://localhost:8080/"
        },
        "id": "OViXYjlhJgoV",
        "outputId": "cffe10c0-c4ba-4a5c-a703-efbc0f4e2439"
      },
      "source": [
        "200 % 7"
      ],
      "execution_count": 13,
      "outputs": [
        {
          "output_type": "execute_result",
          "data": {
            "text/plain": [
              "4"
            ]
          },
          "metadata": {
            "tags": []
          },
          "execution_count": 13
        }
      ]
    },
    {
      "cell_type": "code",
      "metadata": {
        "colab": {
          "base_uri": "https://localhost:8080/"
        },
        "id": "2XQeIdfCJieN",
        "outputId": "73e4dbf0-d2ba-4d54-b9e7-819539fb6a6c"
      },
      "source": [
        "34 ** 3"
      ],
      "execution_count": 14,
      "outputs": [
        {
          "output_type": "execute_result",
          "data": {
            "text/plain": [
              "39304"
            ]
          },
          "metadata": {
            "tags": []
          },
          "execution_count": 14
        }
      ]
    },
    {
      "cell_type": "code",
      "metadata": {
        "colab": {
          "base_uri": "https://localhost:8080/"
        },
        "id": "9BYucZD9JkYg",
        "outputId": "2fc2e16a-6c84-4280-c5aa-1d1d98245e6a"
      },
      "source": [
        "((2 + 6) * (39 - 6)) / (2 ** 6)"
      ],
      "execution_count": 15,
      "outputs": [
        {
          "output_type": "execute_result",
          "data": {
            "text/plain": [
              "4.125"
            ]
          },
          "metadata": {
            "tags": []
          },
          "execution_count": 15
        }
      ]
    },
    {
      "cell_type": "markdown",
      "metadata": {
        "id": "IwimrYfZKDpt"
      },
      "source": [
        "Arithmetic Operators supported by Python:\n",
        "\n",
        "| Operator | Purpose | Example | Result |\n",
        "|----------|---------|---------|--------|\n",
        "| `+`      | Addition|`2 + 3`  |`5`     |\n",
        "| `-`      | Substraction|`3 - 2`|`1`   |\n",
        "|`*`       | Multiplication|`8 * 12`|`96`|\n",
        "| `/`      |Division |`100 / 7`|`2`     |\n",
        "| `//`     |Floor Division|`100 // 7`|`14`|\n",
        "| `%`      |Modulus Reminder|`100 % 7`|`2`|\n",
        "| `**`     |Exponent |`5 ** 3`| `125`   |\n"
      ]
    },
    {
      "cell_type": "markdown",
      "metadata": {
        "id": "kenE5w2xMSgy"
      },
      "source": [
        "Solved problems from https://www.math-only-math.com/worksheet-on-word-problems-on-four-operations.html form problem no:5"
      ]
    },
    {
      "cell_type": "code",
      "metadata": {
        "colab": {
          "base_uri": "https://localhost:8080/"
        },
        "id": "7CAP2yhTJ4jJ",
        "outputId": "b2dc398a-d557-49b2-f969-dc53ce98a3f7"
      },
      "source": [
        "24532 * 12"
      ],
      "execution_count": 16,
      "outputs": [
        {
          "output_type": "execute_result",
          "data": {
            "text/plain": [
              "294384"
            ]
          },
          "metadata": {
            "tags": []
          },
          "execution_count": 16
        }
      ]
    },
    {
      "cell_type": "code",
      "metadata": {
        "colab": {
          "base_uri": "https://localhost:8080/"
        },
        "id": "nMri1KKSMr1H",
        "outputId": "aa5f6010-5f89-4006-ce3f-db1e0b9e1ae5"
      },
      "source": [
        "450000 - (145968 + 236487)"
      ],
      "execution_count": 17,
      "outputs": [
        {
          "output_type": "execute_result",
          "data": {
            "text/plain": [
              "67545"
            ]
          },
          "metadata": {
            "tags": []
          },
          "execution_count": 17
        }
      ]
    },
    {
      "cell_type": "code",
      "metadata": {
        "colab": {
          "base_uri": "https://localhost:8080/"
        },
        "id": "nw-DVXBfNIA3",
        "outputId": "6a448207-852e-4e75-b592-02ffe07e75cc"
      },
      "source": [
        "483685 - (146345 + 138152)"
      ],
      "execution_count": 18,
      "outputs": [
        {
          "output_type": "execute_result",
          "data": {
            "text/plain": [
              "199188"
            ]
          },
          "metadata": {
            "tags": []
          },
          "execution_count": 18
        }
      ]
    },
    {
      "cell_type": "code",
      "metadata": {
        "colab": {
          "base_uri": "https://localhost:8080/"
        },
        "id": "8VWl7lNaPNcs",
        "outputId": "a5742270-4211-4428-9441-3c0e3e7a42f6"
      },
      "source": [
        "9372 * 124"
      ],
      "execution_count": 19,
      "outputs": [
        {
          "output_type": "execute_result",
          "data": {
            "text/plain": [
              "1162128"
            ]
          },
          "metadata": {
            "tags": []
          },
          "execution_count": 19
        }
      ]
    },
    {
      "cell_type": "code",
      "metadata": {
        "colab": {
          "base_uri": "https://localhost:8080/"
        },
        "id": "m6Z28EYbPRUb",
        "outputId": "7453f7be-72a1-4cfd-dc9a-817b538727fd"
      },
      "source": [
        "4356 % 86"
      ],
      "execution_count": 23,
      "outputs": [
        {
          "output_type": "execute_result",
          "data": {
            "text/plain": [
              "56"
            ]
          },
          "metadata": {
            "tags": []
          },
          "execution_count": 22
        },
        {
          "output_type": "execute_result",
          "data": {
            "text/plain": [
              "56"
            ]
          },
          "metadata": {
            "tags": []
          },
          "execution_count": 23
        }
      ]
    },
    {
      "cell_type": "markdown",
      "metadata": {
        "id": "eTOQ5QgEQ3E6"
      },
      "source": [
        "#Evaluating conditions"
      ]
    },
    {
      "cell_type": "markdown",
      "metadata": {
        "id": "pD6iDfh2Q_Mn"
      },
      "source": [
        "| Operator | Description                                                |\n",
        "|----------|-------------------------------------------------------------|\n",
        "| `==`      | Check if operands are equal                                |\n",
        "| `!=`       | Check if operands are not equal                            |\n",
        "| `>`        | Check if left operand is greater than right operand        |\n",
        "| `<`        | check if left operand is less than right operand           |\n",
        "| `>=`       | check if left operand is greater than or equal to right operand                                                                 |\n",
        "| `<=`       | check if left opernd is less than or equal to right operand|"
      ]
    },
    {
      "cell_type": "code",
      "metadata": {
        "id": "GwVelNjwPmGd"
      },
      "source": [
        "my_favorite_number = 8\n",
        "my_least_favorite_number = 7\n",
        "a_neutral_number = 3"
      ],
      "execution_count": 24,
      "outputs": []
    },
    {
      "cell_type": "code",
      "metadata": {
        "colab": {
          "base_uri": "https://localhost:8080/"
        },
        "id": "pc_d6BvrTVK9",
        "outputId": "df9a7182-bc5a-4410-92d7-e027ddf37f28"
      },
      "source": [
        "# '=='\n",
        "my_favorite_number == 3"
      ],
      "execution_count": 27,
      "outputs": [
        {
          "output_type": "execute_result",
          "data": {
            "text/plain": [
              "False"
            ]
          },
          "metadata": {
            "tags": []
          },
          "execution_count": 27
        }
      ]
    },
    {
      "cell_type": "code",
      "metadata": {
        "colab": {
          "base_uri": "https://localhost:8080/"
        },
        "id": "lB4IPta4TYwQ",
        "outputId": "3dc80a9b-d381-4f2e-e802-776436d2a468"
      },
      "source": [
        "my_favorite_number == 8"
      ],
      "execution_count": 28,
      "outputs": [
        {
          "output_type": "execute_result",
          "data": {
            "text/plain": [
              "True"
            ]
          },
          "metadata": {
            "tags": []
          },
          "execution_count": 28
        }
      ]
    },
    {
      "cell_type": "code",
      "metadata": {
        "colab": {
          "base_uri": "https://localhost:8080/"
        },
        "id": "BvmfTKArTdao",
        "outputId": "b940dbd6-341b-4b84-cee6-696601f44dfc"
      },
      "source": [
        "# '!='\n",
        "my_favorite_number != my_least_favorite_number"
      ],
      "execution_count": 29,
      "outputs": [
        {
          "output_type": "execute_result",
          "data": {
            "text/plain": [
              "True"
            ]
          },
          "metadata": {
            "tags": []
          },
          "execution_count": 29
        }
      ]
    },
    {
      "cell_type": "code",
      "metadata": {
        "colab": {
          "base_uri": "https://localhost:8080/"
        },
        "id": "_9ctzBzdT4x6",
        "outputId": "63402857-d711-4d7e-f25b-c5410bb09f24"
      },
      "source": [
        "my_favorite_number != 8"
      ],
      "execution_count": 31,
      "outputs": [
        {
          "output_type": "execute_result",
          "data": {
            "text/plain": [
              "False"
            ]
          },
          "metadata": {
            "tags": []
          },
          "execution_count": 31
        }
      ]
    },
    {
      "cell_type": "code",
      "metadata": {
        "colab": {
          "base_uri": "https://localhost:8080/"
        },
        "id": "z5DpfAusUA4J",
        "outputId": "536f9682-06b1-4fa7-a789-1d70dde3b26e"
      },
      "source": [
        "# '>'\n",
        "my_favorite_number > 8"
      ],
      "execution_count": 32,
      "outputs": [
        {
          "output_type": "execute_result",
          "data": {
            "text/plain": [
              "False"
            ]
          },
          "metadata": {
            "tags": []
          },
          "execution_count": 32
        }
      ]
    },
    {
      "cell_type": "code",
      "metadata": {
        "colab": {
          "base_uri": "https://localhost:8080/"
        },
        "id": "IRtFcQNIUPTO",
        "outputId": "a5d540ef-bf57-4a80-aa6b-137576a1c09d"
      },
      "source": [
        "my_favorite_number > a_neutral_number"
      ],
      "execution_count": 33,
      "outputs": [
        {
          "output_type": "execute_result",
          "data": {
            "text/plain": [
              "True"
            ]
          },
          "metadata": {
            "tags": []
          },
          "execution_count": 33
        }
      ]
    },
    {
      "cell_type": "code",
      "metadata": {
        "colab": {
          "base_uri": "https://localhost:8080/"
        },
        "id": "nW84M8riUTFZ",
        "outputId": "2ffb9ef3-ab57-436c-cde4-8ef0971a60ad"
      },
      "source": [
        "# '<'\n",
        "my_least_favorite_number < 8"
      ],
      "execution_count": 34,
      "outputs": [
        {
          "output_type": "execute_result",
          "data": {
            "text/plain": [
              "True"
            ]
          },
          "metadata": {
            "tags": []
          },
          "execution_count": 34
        }
      ]
    },
    {
      "cell_type": "code",
      "metadata": {
        "colab": {
          "base_uri": "https://localhost:8080/"
        },
        "id": "TEVKhN7dUb-Z",
        "outputId": "c6b89821-cc50-4957-befd-1efbc450d8db"
      },
      "source": [
        "my_favorite_number < 7"
      ],
      "execution_count": 35,
      "outputs": [
        {
          "output_type": "execute_result",
          "data": {
            "text/plain": [
              "False"
            ]
          },
          "metadata": {
            "tags": []
          },
          "execution_count": 35
        }
      ]
    },
    {
      "cell_type": "code",
      "metadata": {
        "colab": {
          "base_uri": "https://localhost:8080/"
        },
        "id": "AklUHLVgUfyq",
        "outputId": "67bce543-a61c-4e03-c10a-dbb5a415870e"
      },
      "source": [
        "# '>='\n",
        "my_favorite_number >= 8"
      ],
      "execution_count": 37,
      "outputs": [
        {
          "output_type": "execute_result",
          "data": {
            "text/plain": [
              "True"
            ]
          },
          "metadata": {
            "tags": []
          },
          "execution_count": 37
        }
      ]
    },
    {
      "cell_type": "code",
      "metadata": {
        "colab": {
          "base_uri": "https://localhost:8080/"
        },
        "id": "R5TNCpxCUu4C",
        "outputId": "13ea870c-61da-449e-b45f-d4b7e0c89719"
      },
      "source": [
        "my_least_favorite_number >= 8"
      ],
      "execution_count": 38,
      "outputs": [
        {
          "output_type": "execute_result",
          "data": {
            "text/plain": [
              "False"
            ]
          },
          "metadata": {
            "tags": []
          },
          "execution_count": 38
        }
      ]
    },
    {
      "cell_type": "code",
      "metadata": {
        "colab": {
          "base_uri": "https://localhost:8080/"
        },
        "id": "hqzXSZa-Uymq",
        "outputId": "05658b2d-2cab-488a-f10c-db0fbd3b8d83"
      },
      "source": [
        "# '<='\n",
        "my_favorite_number <= 8"
      ],
      "execution_count": 39,
      "outputs": [
        {
          "output_type": "execute_result",
          "data": {
            "text/plain": [
              "True"
            ]
          },
          "metadata": {
            "tags": []
          },
          "execution_count": 39
        }
      ]
    },
    {
      "cell_type": "code",
      "metadata": {
        "colab": {
          "base_uri": "https://localhost:8080/"
        },
        "id": "5jgwyEfnU3r1",
        "outputId": "026251ac-a34b-4513-e94c-7af719ab6640"
      },
      "source": [
        "my_favorite_number <= 5"
      ],
      "execution_count": 41,
      "outputs": [
        {
          "output_type": "execute_result",
          "data": {
            "text/plain": [
              "False"
            ]
          },
          "metadata": {
            "tags": []
          },
          "execution_count": 41
        }
      ]
    },
    {
      "cell_type": "code",
      "metadata": {
        "colab": {
          "base_uri": "https://localhost:8080/"
        },
        "id": "fnKNO2dXU6jB",
        "outputId": "f5181388-db27-4d5e-8bc9-bf39b76b240b"
      },
      "source": [
        "print(\"My favorite number is -->\",my_favorite_number)"
      ],
      "execution_count": 43,
      "outputs": [
        {
          "output_type": "stream",
          "text": [
            "My favorite number is --> 8\n"
          ],
          "name": "stdout"
        }
      ]
    },
    {
      "cell_type": "markdown",
      "metadata": {
        "id": "6GPpKSGQV7_L"
      },
      "source": [
        "##Combining condition with logical operators\n"
      ]
    },
    {
      "cell_type": "markdown",
      "metadata": {
        "id": "O7SecS37VYlB"
      },
      "source": [
        "\n",
        "| a | b | a and b|\n",
        "|---|---|--------|\n",
        "|True|True|True|\n",
        "|True|False|False|\n",
        "|False|True|False|\n",
        "|False|False|False|"
      ]
    },
    {
      "cell_type": "code",
      "metadata": {
        "colab": {
          "base_uri": "https://localhost:8080/"
        },
        "id": "Zm0fu6sBVOTR",
        "outputId": "a181e548-c5e3-4258-d3f2-802eec150359"
      },
      "source": [
        "my_favorite_number == 8 and my_least_favorite_number < 8"
      ],
      "execution_count": 44,
      "outputs": [
        {
          "output_type": "execute_result",
          "data": {
            "text/plain": [
              "True"
            ]
          },
          "metadata": {
            "tags": []
          },
          "execution_count": 44
        }
      ]
    },
    {
      "cell_type": "code",
      "metadata": {
        "colab": {
          "base_uri": "https://localhost:8080/"
        },
        "id": "MPXLte6CWW-z",
        "outputId": "e95c5675-1c28-4c51-9304-3950623aaa0e"
      },
      "source": [
        "my_least_favorite_number < 8 and my_least_favorite_number >= 8"
      ],
      "execution_count": 45,
      "outputs": [
        {
          "output_type": "execute_result",
          "data": {
            "text/plain": [
              "False"
            ]
          },
          "metadata": {
            "tags": []
          },
          "execution_count": 45
        }
      ]
    },
    {
      "cell_type": "code",
      "metadata": {
        "colab": {
          "base_uri": "https://localhost:8080/"
        },
        "id": "GS5IDsQSWcGw",
        "outputId": "7ea11a37-5cbf-4adf-8fdb-579d0b66ce6e"
      },
      "source": [
        "my_least_favorite_number >= 8 and my_least_favorite_number < 8"
      ],
      "execution_count": 46,
      "outputs": [
        {
          "output_type": "execute_result",
          "data": {
            "text/plain": [
              "False"
            ]
          },
          "metadata": {
            "tags": []
          },
          "execution_count": 46
        }
      ]
    },
    {
      "cell_type": "code",
      "metadata": {
        "colab": {
          "base_uri": "https://localhost:8080/"
        },
        "id": "Li-PWhdJWgCL",
        "outputId": "9b5d44b0-c331-4159-c0db-de3d774ca30d"
      },
      "source": [
        "my_favorite_number <= 5 and my_least_favorite_number >= 8"
      ],
      "execution_count": 47,
      "outputs": [
        {
          "output_type": "execute_result",
          "data": {
            "text/plain": [
              "False"
            ]
          },
          "metadata": {
            "tags": []
          },
          "execution_count": 47
        }
      ]
    },
    {
      "cell_type": "markdown",
      "metadata": {
        "id": "vKNxcU0tWsPx"
      },
      "source": [
        "| a | b | a or b|\n",
        "|---|---|-------|\n",
        "|True|True|True|\n",
        "|True|False|True|\n",
        "|False|True|True|\n",
        "|False|False|False|\n"
      ]
    },
    {
      "cell_type": "code",
      "metadata": {
        "colab": {
          "base_uri": "https://localhost:8080/"
        },
        "id": "YQaBwTV-Woaa",
        "outputId": "52f5c338-78d2-45e9-81ca-01de18cb6bde"
      },
      "source": [
        "my_favorite_number != my_least_favorite_number or my_favorite_number != my_least_favorite_number"
      ],
      "execution_count": 48,
      "outputs": [
        {
          "output_type": "execute_result",
          "data": {
            "text/plain": [
              "True"
            ]
          },
          "metadata": {
            "tags": []
          },
          "execution_count": 48
        }
      ]
    },
    {
      "cell_type": "code",
      "metadata": {
        "colab": {
          "base_uri": "https://localhost:8080/"
        },
        "id": "VGn2e11aXVIQ",
        "outputId": "2e3073af-19bb-4d59-8548-04bb6004f954"
      },
      "source": [
        "my_favorite_number != my_least_favorite_number or my_favorite_number < 7"
      ],
      "execution_count": 49,
      "outputs": [
        {
          "output_type": "execute_result",
          "data": {
            "text/plain": [
              "True"
            ]
          },
          "metadata": {
            "tags": []
          },
          "execution_count": 49
        }
      ]
    },
    {
      "cell_type": "code",
      "metadata": {
        "colab": {
          "base_uri": "https://localhost:8080/"
        },
        "id": "RWs2hengXZrm",
        "outputId": "dadd41d2-e6fa-4ab3-c0d2-c07c6bce51b6"
      },
      "source": [
        "my_favorite_number < 7 or my_favorite_number != my_least_favorite_number"
      ],
      "execution_count": 50,
      "outputs": [
        {
          "output_type": "execute_result",
          "data": {
            "text/plain": [
              "True"
            ]
          },
          "metadata": {
            "tags": []
          },
          "execution_count": 50
        }
      ]
    },
    {
      "cell_type": "code",
      "metadata": {
        "colab": {
          "base_uri": "https://localhost:8080/"
        },
        "id": "dPgj1z0pXe5A",
        "outputId": "fea03cb4-c622-44a7-957a-c45c8191c2c9"
      },
      "source": [
        "my_least_favorite_number >= 8 or my_least_favorite_number >= 8"
      ],
      "execution_count": 51,
      "outputs": [
        {
          "output_type": "execute_result",
          "data": {
            "text/plain": [
              "False"
            ]
          },
          "metadata": {
            "tags": []
          },
          "execution_count": 51
        }
      ]
    },
    {
      "cell_type": "code",
      "metadata": {
        "colab": {
          "base_uri": "https://localhost:8080/"
        },
        "id": "qBtX8qK4XjJR",
        "outputId": "c3f1562d-a5d3-4122-f034-801cd44e4b22"
      },
      "source": [
        "not ( True and 0 < 1) or (False and True)"
      ],
      "execution_count": 52,
      "outputs": [
        {
          "output_type": "execute_result",
          "data": {
            "text/plain": [
              "False"
            ]
          },
          "metadata": {
            "tags": []
          },
          "execution_count": 52
        }
      ]
    },
    {
      "cell_type": "code",
      "metadata": {
        "colab": {
          "base_uri": "https://localhost:8080/"
        },
        "id": "47XHIrxaXv-5",
        "outputId": "3ba841cc-1164-4469-b692-253934daf322"
      },
      "source": [
        "#when paranthesis not used logical operators applied from left to right\n",
        "not True and 0 < 1 or False and True"
      ],
      "execution_count": 53,
      "outputs": [
        {
          "output_type": "execute_result",
          "data": {
            "text/plain": [
              "False"
            ]
          },
          "metadata": {
            "tags": []
          },
          "execution_count": 53
        }
      ]
    },
    {
      "cell_type": "code",
      "metadata": {
        "id": "MDbjjrp2YCAy"
      },
      "source": [
        ""
      ],
      "execution_count": null,
      "outputs": []
    }
  ]
}